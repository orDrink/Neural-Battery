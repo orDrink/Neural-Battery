{
 "cells": [
  {
   "cell_type": "code",
   "execution_count": null,
   "id": "881939da",
   "metadata": {},
   "outputs": [],
   "source": [
    "#pip install pybamm"
   ]
  },
  {
   "cell_type": "code",
   "execution_count": 1,
   "id": "71d94f51",
   "metadata": {},
   "outputs": [],
   "source": [
    "import pybamm\n",
    "import numpy as np\n",
    "import matplotlib.pyplot as plt\n",
    "from scipy.optimize import fsolve"
   ]
  },
  {
   "cell_type": "code",
   "execution_count": 23,
   "id": "982fa56e",
   "metadata": {},
   "outputs": [
    {
     "data": {
      "application/vnd.jupyter.widget-view+json": {
       "model_id": "71f376b98899430fa212edf3beac9bff",
       "version_major": 2,
       "version_minor": 0
      },
      "text/plain": [
       "interactive(children=(FloatSlider(value=0.0, description='t', max=360.0, step=3.6), Output()), _dom_classes=('…"
      ]
     },
     "metadata": {},
     "output_type": "display_data"
    },
    {
     "data": {
      "text/plain": [
       "<pybamm.plotting.quick_plot.QuickPlot at 0x29b06d7e730>"
      ]
     },
     "execution_count": 23,
     "metadata": {},
     "output_type": "execute_result"
    }
   ],
   "source": [
    "# 初始化并联参数\n",
    "R_connections = [0.01, 0.01]  # 两个电池的不同连接电阻\n",
    "I_total = 20                  # 总电流\n",
    "\n",
    "# 创建并联模型组\n",
    "models = [pybamm.lithium_ion.SPMe() for _ in range(2)]\n",
    "simulations = []\n",
    "\n",
    "# 分配电流并设置参数\n",
    "for i, model in enumerate(models):\n",
    "    # 计算本支路电流\n",
    "    I_i = (I_total / R_connections[i]) / sum(1/R for R in R_connections)\n",
    "    \n",
    "    # 配置参数\n",
    "    params = pybamm.ParameterValues(\"Chen2020\")\n",
    "    params.update({\n",
    "        \"Current function [A]\": I_i,\n",
    " #       \"Positive electrode conductivity [S.m-1]\": 0.1,  # 示例参数\n",
    "  #      \"Negative electrode thickness [m]\": 1e-4\n",
    "    })\n",
    "    \n",
    "    # 创建模拟实例\n",
    "    sim = pybamm.Simulation(model, parameter_values=params)\n",
    "    simulations.append(sim)\n",
    "\n",
    "# 并行求解\n",
    "solutions = []\n",
    "t_eval = np.linspace(0, 360, 10)  # 1小时仿真\n",
    "for sim in simulations:\n",
    "    solutions.append(sim.solve(t_eval))\n",
    "\n",
    "# 结果可视化\n",
    "pybamm.dynamic_plot(solutions, \n",
    "    output_variables=[\"Voltage [V]\", \"Current [A]\", \"Electrolyte concentration [mol.m-3]\"])\n"
   ]
  },
  {
   "cell_type": "code",
   "execution_count": 9,
   "id": "6f738d2a",
   "metadata": {
    "scrolled": true
   },
   "outputs": [
    {
     "name": "stderr",
     "output_type": "stream",
     "text": [
      "2025-04-02 20:06:20.674 - [INFO] base_model._build_model(652): Start building Single Particle Model with electrolyte\n",
      "2025-04-02 20:06:20.734 - [INFO] base_battery_model.build_model(1073): Finish building Single Particle Model with electrolyte\n",
      "2025-04-02 20:06:20.739 - [INFO] parameter_values.process_model(394): Start setting parameters for Single Particle Model with electrolyte\n",
      "2025-04-02 20:06:20.816 - [INFO] parameter_values.process_model(463): Finish setting parameters for Single Particle Model with electrolyte\n",
      "2025-04-02 20:06:20.817 - [INFO] discretisation.process_model(145): Start discretising Single Particle Model with electrolyte\n",
      "2025-04-02 20:06:20.826 - [INFO] discretisation.remove_independent_variables_from_rhs(1126): removing variable Discharge capacity [A.h] from rhs\n",
      "2025-04-02 20:06:20.827 - [INFO] discretisation.remove_independent_variables_from_rhs(1126): removing variable Throughput capacity [A.h] from rhs\n",
      "2025-04-02 20:06:21.208 - [INFO] discretisation.process_model(247): Finish discretising Single Particle Model with electrolyte\n",
      "2025-04-02 20:06:21.211 - [INFO] base_solver.set_up(117): Start solver set-up\n",
      "2025-04-02 20:06:21.308 - [INFO] base_solver.set_up(286): Finish solver set-up\n"
     ]
    },
    {
     "ename": "AttributeError",
     "evalue": "'CasadiSolver' object has no attribute 'stats'",
     "output_type": "error",
     "traceback": [
      "\u001b[1;31m---------------------------------------------------------------------------\u001b[0m",
      "\u001b[1;31mAttributeError\u001b[0m                            Traceback (most recent call last)",
      "Cell \u001b[1;32mIn[9], line 123\u001b[0m\n\u001b[0;32m    118\u001b[0m pack \u001b[38;5;241m=\u001b[39m ParallelPack(\n\u001b[0;32m    119\u001b[0m     num_cells\u001b[38;5;241m=\u001b[39mbatch_sizes[k],\n\u001b[0;32m    120\u001b[0m     conn_resistances\u001b[38;5;241m=\u001b[39m [i\u001b[38;5;241m*\u001b[39m\u001b[38;5;241m0.0001\u001b[39m \u001b[38;5;241m+\u001b[39m \u001b[38;5;241m0.001\u001b[39m \u001b[38;5;28;01mfor\u001b[39;00m i \u001b[38;5;129;01min\u001b[39;00m \u001b[38;5;28mrange\u001b[39m(batch_sizes[k])]   \u001b[38;5;66;03m# 电池连接电阻\u001b[39;00m\n\u001b[0;32m    121\u001b[0m )\n\u001b[0;32m    122\u001b[0m start \u001b[38;5;241m=\u001b[39m time\u001b[38;5;241m.\u001b[39mtime()\n\u001b[1;32m--> 123\u001b[0m solutions \u001b[38;5;241m=\u001b[39m \u001b[43mpack\u001b[49m\u001b[38;5;241;43m.\u001b[39;49m\u001b[43msolve\u001b[49m\u001b[43m(\u001b[49m\u001b[43mt_eval\u001b[49m\u001b[43m,\u001b[49m\u001b[43m \u001b[49m\u001b[43mtotal_current\u001b[49m\u001b[43m)\u001b[49m\n\u001b[0;32m    124\u001b[0m end \u001b[38;5;241m=\u001b[39m time\u001b[38;5;241m.\u001b[39mtime()\n\u001b[0;32m    126\u001b[0m time_cost[k,j] \u001b[38;5;241m=\u001b[39m \u001b[38;5;28mfloat\u001b[39m((end \u001b[38;5;241m-\u001b[39m start)\u001b[38;5;241m/\u001b[39mt_total)\n",
      "Cell \u001b[1;32mIn[9], line 74\u001b[0m, in \u001b[0;36mParallelPack.solve\u001b[1;34m(self, t_eval, total_current)\u001b[0m\n\u001b[0;32m     71\u001b[0m     solutions[cell_id] \u001b[38;5;241m=\u001b[39m \u001b[38;5;28mself\u001b[39m\u001b[38;5;241m.\u001b[39msims[cell_id]\u001b[38;5;241m.\u001b[39mstep(dt,\n\u001b[0;32m     72\u001b[0m                                                 starting_solution\u001b[38;5;241m=\u001b[39msolutions[cell_id])\n\u001b[0;32m     73\u001b[0m     \u001b[38;5;66;03m# 获取求解器统计信息\u001b[39;00m\n\u001b[1;32m---> 74\u001b[0m     solver_stats \u001b[38;5;241m=\u001b[39m \u001b[38;5;28;43mself\u001b[39;49m\u001b[38;5;241;43m.\u001b[39;49m\u001b[43msims\u001b[49m\u001b[43m[\u001b[49m\u001b[43mcell_id\u001b[49m\u001b[43m]\u001b[49m\u001b[38;5;241;43m.\u001b[39;49m\u001b[43msolver\u001b[49m\u001b[38;5;241;43m.\u001b[39;49m\u001b[43mstats\u001b[49m\n\u001b[0;32m     75\u001b[0m     nsteps[cell_id] \u001b[38;5;241m=\u001b[39m \u001b[38;5;28mint\u001b[39m(solver_stats[\u001b[38;5;124m\"\u001b[39m\u001b[38;5;124mnsteps\u001b[39m\u001b[38;5;124m\"\u001b[39m])\n\u001b[0;32m     77\u001b[0m mean \u001b[38;5;241m=\u001b[39m np\u001b[38;5;241m.\u001b[39mmean(np\u001b[38;5;241m.\u001b[39marray(nsteps), axis\u001b[38;5;241m=\u001b[39m\u001b[38;5;241m1\u001b[39m)\n",
      "\u001b[1;31mAttributeError\u001b[0m: 'CasadiSolver' object has no attribute 'stats'"
     ]
    }
   ],
   "source": [
    "import pybamm\n",
    "import numpy as np\n",
    "import matplotlib.pyplot as plt\n",
    "import time\n",
    "\n",
    "# 初始化配置\n",
    "# pybamm.set_logging_level(\"INFO\")\n",
    "\n",
    "class ParallelPack:\n",
    "    def __init__(self, num_cells, conn_resistances):\n",
    "        self.num_cells = num_cells\n",
    "        self.conn_resistances = conn_resistances  # 连接电阻列表\n",
    "        \n",
    "        # 初始化各电池模型\n",
    "        self.models = [pybamm.lithium_ion.SPMe(options={\"thermal\": \"lumped\"}) \n",
    "                      for _ in range(num_cells)]\n",
    "        \n",
    "        # 参数差异化配置（修复参数初始化问题）\n",
    "        self.params_list = []\n",
    "        for i in range(num_cells):\n",
    "            params = pybamm.ParameterValues(\"Chen2020\")\n",
    "            params.update({\n",
    "                \"Positive electrode conductivity [S.m-1]\": 100 + 20*i,\n",
    "                \"Current collector contact resistance [Ohm.m2]\": 1e-4*(1 + 0.1*i),\n",
    "                \"Connection resistance [Ohm]\": conn_resistances[i],\n",
    "                \"Current function [A]\": 0  # 初始化电流参数\n",
    "            }, check_already_exists=False)\n",
    "            self.params_list.append(params)  # 正确添加参数对象\n",
    "        \n",
    "        # 创建仿真对象\n",
    "        self.sims = [\n",
    "            pybamm.Simulation(\n",
    "                model, \n",
    "                parameter_values=params,\n",
    "                solver=pybamm.CasadiSolver(mode=\"fast\")\n",
    "            ) for model, params in zip(self.models, self.params_list)\n",
    "        ]\n",
    "        \n",
    "    def _calculate_internal_resistance(self, solution):\n",
    "        \"\"\"从解算结果中提取动态内阻\"\"\"\n",
    "        V_terminal = solution[\"Terminal voltage [V]\"].entries[-1]\n",
    "        I = solution[\"Current [A]\"].entries[-1]\n",
    "        OCV = solution[\"Battery open-circuit voltage [V]\"].entries[-1]\n",
    "        return abs((OCV - V_terminal) / I) if I != 0 else np.inf\n",
    "        \n",
    "    def solve(self, t_eval, total_current):\n",
    "        \"\"\"动态求解过程\"\"\"\n",
    "        dt = t_eval[1] - t_eval[0]\n",
    "        solutions = [None] * self.num_cells\n",
    "        \n",
    "        # 初始电流分配\n",
    "        currents = np.ones(self.num_cells) * total_current / self.num_cells\n",
    "        \n",
    "        for i, t in enumerate(t_eval[1:]):\n",
    "           \n",
    "            # 更新每个电池的仿真\n",
    "            nsteps = [None] * self.num_cells\n",
    "            \n",
    "            for cell_id in range(self.num_cells):\n",
    "                # 正确设置电流参数（使用setitem方法）\n",
    "                self.params_list[cell_id][\"Current function [A]\"] = currents[cell_id]\n",
    "                \n",
    "                # 重新创建仿真对象以应用新参数\n",
    "                self.sims[cell_id] = pybamm.Simulation(\n",
    "                    self.models[cell_id],\n",
    "                    parameter_values=self.params_list[cell_id],\n",
    "                    solver=pybamm.CasadiSolver(mode=\"fast\")\n",
    "                )\n",
    "                \n",
    "                # 步进求解\n",
    "                solutions[cell_id] = self.sims[cell_id].step(dt,\n",
    "                                                            starting_solution=solutions[cell_id])\n",
    "                # 获取求解器统计信息\n",
    "                solver_stats = self.sims[cell_id].solver.stats\n",
    "                nsteps[cell_id] = int(solver_stats[\"nsteps\"])\n",
    "            \n",
    "            mean = np.mean(np.array(nsteps), axis=1)\n",
    "            print(mean)\n",
    "                \n",
    "            # 计算动态总电阻（连接电阻 + 内阻）\n",
    "            total_resistances = []\n",
    "            for cell_id in range(self.num_cells):\n",
    "                R_conn = self.conn_resistances[cell_id]\n",
    "                R_int = self._calculate_internal_resistance(solutions[cell_id])\n",
    "                total_resistances.append(R_conn + R_int)\n",
    "            \n",
    "            # 重新分配电流（基于电导率加权）\n",
    "            conductances = 1 / np.array(total_resistances)\n",
    "            currents = total_current * conductances / conductances.sum()\n",
    "            \n",
    "            # 记录系统状态\n",
    "            self._log_status(i, t, currents, total_resistances)\n",
    "            \n",
    "        return solutions\n",
    "    \n",
    "    def _log_status(self, step, t, currents, resistances):\n",
    "        \"\"\"实时状态输出\"\"\"\n",
    "        print(f\"\\nStep {step} @ {t:.1f}s:\")\n",
    "        for cell_id in range(self.num_cells):\n",
    "            print(f\"Cell {cell_id+1}: I={currents[cell_id]:.2f}A, R_total={resistances[cell_id]:.4f}Ω\")\n",
    "\n",
    "# 运行参数\n",
    "t_total = 2  # 总仿真时间 [s]\n",
    "dt = 1  # 电流更新间隔 [s]\n",
    "t_eval = np.arange(0, t_total + dt, dt)\n",
    "total_current = 20  # 系统总电流 [A]\n",
    "\n",
    "repeat = 1\n",
    "# batch_sizes = [1,2,4,8,16]\n",
    "batch_sizes = [1]\n",
    "\n",
    "time_cost = np.zeros((len(batch_sizes), repeat)) \n",
    "\n",
    "for j in range(repeat):     \n",
    "    for k in range(len(batch_sizes)):\n",
    "\n",
    "        # 创建并联电池组实例\n",
    "        pack = ParallelPack(\n",
    "            num_cells=batch_sizes[k],\n",
    "            conn_resistances= [i*0.0001 + 0.001 for i in range(batch_sizes[k])]   # 电池连接电阻\n",
    "        )\n",
    "        start = time.time()\n",
    "        solutions = pack.solve(t_eval, total_current)\n",
    "        end = time.time()\n",
    "        \n",
    "        time_cost[k,j] = float((end - start)/t_total)\n",
    "        print(time_cost)\n",
    "            \n",
    "mean = np.mean(time_cost, axis=1)\n",
    "var = np.var(time_cost, axis=1, ddof=1) \n",
    "\n",
    "for k in range(len(batch_sizes)):\n",
    "    print(mean[k],var[k])\n"
   ]
  },
  {
   "cell_type": "code",
   "execution_count": 59,
   "id": "2fd499f4",
   "metadata": {},
   "outputs": [
    {
     "data": {
      "application/vnd.jupyter.widget-view+json": {
       "model_id": "e914f9a612374beab275ff427732bca5",
       "version_major": 2,
       "version_minor": 0
      },
      "text/plain": [
       "interactive(children=(FloatSlider(value=0.0, description='t', step=1.0), Output()), _dom_classes=('widget-inte…"
      ]
     },
     "metadata": {},
     "output_type": "display_data"
    },
    {
     "data": {
      "application/vnd.jupyter.widget-view+json": {
       "model_id": "a6e9380136f44c80928cd65f894cce94",
       "version_major": 2,
       "version_minor": 0
      },
      "text/plain": [
       "interactive(children=(FloatSlider(value=0.0, description='t', step=1.0), Output()), _dom_classes=('widget-inte…"
      ]
     },
     "metadata": {},
     "output_type": "display_data"
    },
    {
     "data": {
      "text/plain": [
       "<pybamm.plotting.quick_plot.QuickPlot at 0x29b1356b0a0>"
      ]
     },
     "execution_count": 59,
     "metadata": {},
     "output_type": "execute_result"
    }
   ],
   "source": [
    "\n",
    "solutions[0].plot()\n",
    "solutions[1].plot()"
   ]
  },
  {
   "cell_type": "code",
   "execution_count": null,
   "id": "7a212f94",
   "metadata": {},
   "outputs": [],
   "source": []
  }
 ],
 "metadata": {
  "kernelspec": {
   "display_name": "Python 3 (ipykernel)",
   "language": "python",
   "name": "python3"
  },
  "language_info": {
   "codemirror_mode": {
    "name": "ipython",
    "version": 3
   },
   "file_extension": ".py",
   "mimetype": "text/x-python",
   "name": "python",
   "nbconvert_exporter": "python",
   "pygments_lexer": "ipython3",
   "version": "3.8.20"
  },
  "toc": {
   "base_numbering": 1,
   "nav_menu": {},
   "number_sections": true,
   "sideBar": true,
   "skip_h1_title": false,
   "title_cell": "Table of Contents",
   "title_sidebar": "Contents",
   "toc_cell": false,
   "toc_position": {},
   "toc_section_display": true,
   "toc_window_display": false
  }
 },
 "nbformat": 4,
 "nbformat_minor": 5
}
