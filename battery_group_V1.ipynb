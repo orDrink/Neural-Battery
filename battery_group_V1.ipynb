{
 "cells": [
  {
   "cell_type": "code",
   "execution_count": null,
   "id": "881939da",
   "metadata": {},
   "outputs": [],
   "source": [
    "#pip install pybamm"
   ]
  },
  {
   "cell_type": "code",
   "execution_count": 1,
   "id": "71d94f51",
   "metadata": {},
   "outputs": [],
   "source": [
    "import pybamm\n",
    "import numpy as np\n",
    "import matplotlib.pyplot as plt\n",
    "from scipy.optimize import fsolve"
   ]
  },
  {
   "cell_type": "code",
   "execution_count": 2,
   "id": "982fa56e",
   "metadata": {},
   "outputs": [
    {
     "data": {
      "application/vnd.jupyter.widget-view+json": {
       "model_id": "9d3d05cc75464723a8c49d7dcf2c28f4",
       "version_major": 2,
       "version_minor": 0
      },
      "text/plain": [
       "interactive(children=(FloatSlider(value=0.0, description='t', max=360.0, step=3.6), Output()), _dom_classes=('…"
      ]
     },
     "metadata": {},
     "output_type": "display_data"
    },
    {
     "data": {
      "text/plain": [
       "<pybamm.plotting.quick_plot.QuickPlot at 0x2526bdbf790>"
      ]
     },
     "execution_count": 2,
     "metadata": {},
     "output_type": "execute_result"
    }
   ],
   "source": [
    "# 初始化并联参数\n",
    "R_connections = [0.01, 0.01]  # 两个电池的不同连接电阻\n",
    "I_total = 20                  # 总电流\n",
    "\n",
    "# 创建并联模型组\n",
    "models = [pybamm.lithium_ion.SPMe() for _ in range(2)]\n",
    "simulations = []\n",
    "\n",
    "# 分配电流并设置参数\n",
    "for i, model in enumerate(models):\n",
    "    # 计算本支路电流\n",
    "    I_i = (I_total / R_connections[i]) / sum(1/R for R in R_connections)\n",
    "    \n",
    "    # 配置参数\n",
    "    params = pybamm.ParameterValues(\"Chen2020\")\n",
    "    params.update({\n",
    "        \"Current function [A]\": I_i,\n",
    " #       \"Positive electrode conductivity [S.m-1]\": 0.1,  # 示例参数\n",
    "  #      \"Negative electrode thickness [m]\": 1e-4\n",
    "    })\n",
    "    \n",
    "    # 创建模拟实例\n",
    "    sim = pybamm.Simulation(model, parameter_values=params)\n",
    "    simulations.append(sim)\n",
    "\n",
    "# 并行求解\n",
    "solutions = []\n",
    "t_eval = np.linspace(0, 360, 10)  # 1小时仿真\n",
    "for sim in simulations:\n",
    "    solutions.append(sim.solve(t_eval))\n",
    "\n",
    "# 结果可视化\n",
    "pybamm.dynamic_plot(solutions, \n",
    "    output_variables=[\"Voltage [V]\", \"Current [A]\", \"Electrolyte concentration [mol.m-3]\"])\n"
   ]
  },
  {
   "cell_type": "code",
   "execution_count": 9,
   "id": "6f738d2a",
   "metadata": {
    "scrolled": true
   },
   "outputs": [
    {
     "name": "stdout",
     "output_type": "stream",
     "text": [
      "\n",
      "Step 0 @ 1.0s:\n",
      "Cell 1: I=10.02A, R_total=0.0234Ω\n",
      "Cell 2: I=9.98A, R_total=0.0235Ω\n",
      "\n",
      "Step 1 @ 2.0s:\n",
      "Cell 1: I=10.02A, R_total=0.0234Ω\n",
      "Cell 2: I=9.98A, R_total=0.0235Ω\n",
      "[[0.51794863]]\n",
      "0.5179486274719238 nan\n"
     ]
    }
   ],
   "source": [
    "import pybamm\n",
    "import numpy as np\n",
    "import matplotlib.pyplot as plt\n",
    "import time\n",
    "\n",
    "# 初始化配置\n",
    "# pybamm.set_logging_level(\"INFO\")\n",
    "\n",
    "class ParallelPack:\n",
    "    def __init__(self, num_cells, conn_resistances):\n",
    "        self.num_cells = num_cells\n",
    "        self.conn_resistances = conn_resistances  # 连接电阻列表\n",
    "        \n",
    "        # 初始化各电池模型\n",
    "        self.models = [pybamm.lithium_ion.SPMe(options={\"thermal\": \"lumped\"}) \n",
    "                      for _ in range(num_cells)]\n",
    "        \n",
    "        # 参数差异化配置（修复参数初始化问题）\n",
    "        self.params_list = []\n",
    "        for i in range(num_cells):\n",
    "            params = pybamm.ParameterValues(\"Chen2020\")\n",
    "            params.update({\n",
    "                \"Positive electrode conductivity [S.m-1]\": 100 + 20*i,\n",
    "                \"Current collector contact resistance [Ohm.m2]\": 1e-4*(1 + 0.1*i),\n",
    "                \"Connection resistance [Ohm]\": conn_resistances[i],\n",
    "                \"Current function [A]\": 0  # 初始化电流参数\n",
    "            }, check_already_exists=False)\n",
    "            self.params_list.append(params)  # 正确添加参数对象\n",
    "        \n",
    "        # 创建仿真对象\n",
    "        self.sims = [\n",
    "            pybamm.Simulation(\n",
    "                model, \n",
    "                parameter_values=params,\n",
    "                solver=pybamm.CasadiSolver(mode=\"fast\")\n",
    "            ) for model, params in zip(self.models, self.params_list)\n",
    "        ]\n",
    "        \n",
    "    def _calculate_internal_resistance(self, solution):\n",
    "        \"\"\"从解算结果中提取动态内阻\"\"\"\n",
    "        V_terminal = solution[\"Terminal voltage [V]\"].entries[-1]\n",
    "        I = solution[\"Current [A]\"].entries[-1]\n",
    "        OCV = solution[\"Battery open-circuit voltage [V]\"].entries[-1]\n",
    "        return abs((OCV - V_terminal) / I) if I != 0 else np.inf\n",
    "        \n",
    "    def solve(self, t_eval, total_current):\n",
    "        \"\"\"动态求解过程\"\"\"\n",
    "        dt = t_eval[1] - t_eval[0]\n",
    "        solutions = []\n",
    "        \n",
    "        # 初始电流分配\n",
    "        currents = np.ones(self.num_cells) * total_current / self.num_cells\n",
    "        \n",
    "        for i, t in enumerate(t_eval[1:]):\n",
    "           \n",
    "            # 创建分段求解时间轴\n",
    "            for cell_id in range(self.num_cells):\n",
    "                self.params_list[cell_id][\"Current function [A]\"] = currents[cell_id]\n",
    "                solutions.append(self.sims[cell_id].solve(t_eval))  # 全时段求解\n",
    "\n",
    "            # 计算动态总电阻（连接电阻 + 内阻）\n",
    "            total_resistances = []\n",
    "            for cell_id in range(self.num_cells):\n",
    "                R_conn = self.conn_resistances[cell_id]\n",
    "                R_int = self._calculate_internal_resistance(solutions[cell_id])\n",
    "                total_resistances.append(R_conn + R_int)\n",
    "            \n",
    "            # 重新分配电流（基于电导率加权）\n",
    "            conductances = 1 / np.array(total_resistances)\n",
    "            currents = total_current * conductances / conductances.sum()\n",
    "            \n",
    "            # 记录系统状态\n",
    "            self._log_status(i, t, currents, total_resistances)\n",
    "            \n",
    "        return solutions\n",
    "    \n",
    "    def _log_status(self, step, t, currents, resistances):\n",
    "        \"\"\"实时状态输出\"\"\"\n",
    "        print(f\"\\nStep {step} @ {t:.1f}s:\")\n",
    "        for cell_id in range(self.num_cells):\n",
    "            print(f\"Cell {cell_id+1}: I={currents[cell_id]:.2f}A, R_total={resistances[cell_id]:.4f}Ω\")\n",
    "\n",
    "# 运行参数\n",
    "t_total = 2  # 总仿真时间 [s]\n",
    "dt = 1  # 电流更新间隔 [s]\n",
    "t_eval = np.arange(0, t_total + dt, dt)\n",
    "total_current = 20  # 系统总电流 [A]\n",
    "\n",
    "repeat = 1\n",
    "# batch_sizes = [1,2,4,8,16]\n",
    "batch_sizes = [2]\n",
    "\n",
    "time_cost = np.zeros((len(batch_sizes), repeat)) \n",
    "\n",
    "for j in range(repeat):     \n",
    "    for k in range(len(batch_sizes)):\n",
    "\n",
    "        # 创建并联电池组实例\n",
    "        pack = ParallelPack(\n",
    "            num_cells=batch_sizes[k],\n",
    "            conn_resistances= [i*0.0001 + 0.001 for i in range(batch_sizes[k])]   # 电池连接电阻\n",
    "        )\n",
    "        start = time.time()\n",
    "        solutions = pack.solve(t_eval, total_current)\n",
    "        end = time.time()\n",
    "        \n",
    "        time_cost[k,j] = float((end - start)/t_total)\n",
    "        print(time_cost)\n",
    "            \n",
    "mean = np.mean(time_cost, axis=1)\n",
    "var = np.var(time_cost, axis=1, ddof=1) \n",
    "\n",
    "for k in range(len(batch_sizes)):\n",
    "    print(mean[k],var[k])\n"
   ]
  },
  {
   "cell_type": "code",
   "execution_count": 10,
   "id": "2fd499f4",
   "metadata": {},
   "outputs": [
    {
     "data": {
      "application/vnd.jupyter.widget-view+json": {
       "model_id": "616b53d2464b4bf592341f9a38490c6c",
       "version_major": 2,
       "version_minor": 0
      },
      "text/plain": [
       "interactive(children=(FloatSlider(value=0.0, description='t', max=2.0, step=0.02), Output()), _dom_classes=('w…"
      ]
     },
     "metadata": {},
     "output_type": "display_data"
    },
    {
     "data": {
      "application/vnd.jupyter.widget-view+json": {
       "model_id": "7d083a152c91418eb5d8e0a5bcf1f373",
       "version_major": 2,
       "version_minor": 0
      },
      "text/plain": [
       "interactive(children=(FloatSlider(value=0.0, description='t', max=2.0, step=0.02), Output()), _dom_classes=('w…"
      ]
     },
     "metadata": {},
     "output_type": "display_data"
    },
    {
     "data": {
      "text/plain": [
       "<pybamm.plotting.quick_plot.QuickPlot at 0x252702e3d90>"
      ]
     },
     "execution_count": 10,
     "metadata": {},
     "output_type": "execute_result"
    }
   ],
   "source": [
    "solutions[0].plot()\n",
    "solutions[1].plot()"
   ]
  },
  {
   "cell_type": "code",
   "execution_count": null,
   "id": "7a212f94",
   "metadata": {},
   "outputs": [],
   "source": []
  }
 ],
 "metadata": {
  "kernelspec": {
   "display_name": "Python 3 (ipykernel)",
   "language": "python",
   "name": "python3"
  },
  "language_info": {
   "codemirror_mode": {
    "name": "ipython",
    "version": 3
   },
   "file_extension": ".py",
   "mimetype": "text/x-python",
   "name": "python",
   "nbconvert_exporter": "python",
   "pygments_lexer": "ipython3",
   "version": "3.8.20"
  },
  "toc": {
   "base_numbering": 1,
   "nav_menu": {},
   "number_sections": true,
   "sideBar": true,
   "skip_h1_title": false,
   "title_cell": "Table of Contents",
   "title_sidebar": "Contents",
   "toc_cell": false,
   "toc_position": {},
   "toc_section_display": true,
   "toc_window_display": false
  }
 },
 "nbformat": 4,
 "nbformat_minor": 5
}
